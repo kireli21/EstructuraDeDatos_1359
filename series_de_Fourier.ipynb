{
  "nbformat": 4,
  "nbformat_minor": 0,
  "metadata": {
    "colab": {
      "name": "series de Fourier ",
      "provenance": [],
      "authorship_tag": "ABX9TyOVTO2wUQkuAN9v8x2VsCuH",
      "include_colab_link": true
    },
    "kernelspec": {
      "name": "python3",
      "display_name": "Python 3"
    },
    "language_info": {
      "name": "python"
    }
  },
  "cells": [
    {
      "cell_type": "markdown",
      "metadata": {
        "id": "view-in-github",
        "colab_type": "text"
      },
      "source": [
        "<a href=\"https://colab.research.google.com/github/kireli21/EstructuraDeDatos_1359/blob/master/series_de_Fourier.ipynb\" target=\"_parent\"><img src=\"https://colab.research.google.com/assets/colab-badge.svg\" alt=\"Open In Colab\"/></a>"
      ]
    },
    {
      "cell_type": "code",
      "execution_count": null,
      "metadata": {
        "id": "4vmoO8b91eFq"
      },
      "outputs": [],
      "source": [
        "#Profe, este solo da resultados para n impares\n",
        "import numpy as np\n",
        "import matplotlib.pyplot as plt\n",
        "from scipy import signal\n",
        "\n",
        "plt.style.use('seaborn')\n",
        "\n",
        "def fourier(x,n):\n",
        "  m = 2*n-1\n",
        "  f = (4/np.pi)*(1/m)*np.sin(m*np.pi*x/L)\n",
        "  return f\n",
        "\n",
        "L = np.pi\n",
        "a = 1\n",
        "x = np.linspace(-0.001, 2*a*L,100)#aqui el ultimo es valor\n",
        "\n",
        "f = 0\n",
        "n = 1\n",
        "nt = int(input(\"cantidad de iterasiones = \"))\n",
        "\n",
        "while n<nt:\n",
        "  f += fourier(x, n)\n",
        "  plt.plot(x, f, label=\"n= {} \".format(2*n-1)) \n",
        "  n += 1\n",
        "\n",
        "plt.plot(x,f)\n",
        "\n",
        "plt.plot(x, signal.square(x), color = 'k')\n",
        "plt.legend()\n",
        "plt.show()\n",
        "\n"
      ]
    },
    {
      "cell_type": "code",
      "source": [
        "#Este no da hasta mil :'c\n",
        "\n",
        "from sympy import *\n",
        "from sympy.abc import t, n\n",
        "\n",
        "ao = integrate(2 / pi, (t, 0, pi / 2))\n",
        "\n",
        "\n",
        "\n",
        "an = integrate((2 / pi) * cos(2 * n * t), (t, 0, pi / 2))\n",
        "\n",
        "\n",
        "bn = together(integrate((2 / pi) * sin(2 * n * t), (t, 0, pi / 2)))\n",
        "\n",
        "\n",
        "\n",
        "\n",
        "armonicos = int(input(\"n= \"))\n",
        "serie = (ao/2)\n",
        "for i in range(1, armonicos + 1):\n",
        "    serie = serie + (an*cos(2*n*t)).subs(n, i)\n",
        "for j in range(1, armonicos + 1):\n",
        "    serie = serie + (bn*sin(2*n*t)).subs(n, j)\n",
        "\n",
        "\n",
        "\n",
        "plotting.plot(serie, ylim=(-0.5, 1.5), xlim=(-0.5,5)) \n"
      ],
      "metadata": {
        "id": "iedDT6Pn0jS8"
      },
      "execution_count": null,
      "outputs": []
    }
  ]
}